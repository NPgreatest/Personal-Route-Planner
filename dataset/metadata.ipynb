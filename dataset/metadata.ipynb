{
 "cells": [
  {
   "cell_type": "code",
   "execution_count": null,
   "metadata": {
    "collapsed": true,
    "pycharm": {
     "name": "#%%\n"
    }
   },
   "outputs": [],
   "source": [
    "import pandas as pd\n",
    "df = pd.read_csv('site.csv',encoding='gbk')\n",
    "shanghai_df = df[df['省市自治区'] == '上海市'].copy()\n",
    "shanghai_df['序号'] = shanghai_df.reset_index().index + 1\n",
    "shanghai_df.to_csv('shanghai.csv', index=False,encoding='gbk')"
   ]
  },
  {
   "cell_type": "code",
   "execution_count": null,
   "outputs": [],
   "source": [
    "ratings = pd.read_csv('google_review_ratings.csv',encoding='gbk')\n",
    "display(ratings.head())\n",
    "cn_column = [\"User\",\"宗教场所\",\"度假区\",\"海滩\",\"公园/森林公园\",\"剧院/表演场所\",\"博物馆/展览馆\",\"购物中心/商场\",\"动物园/水族馆\",\"餐厅/美食\",\"酒吧/夜生活\",\"本地服务/体验活动\",\"汉堡/披萨店（需调整或删除）\",\"酒店/住宿\",\"果汁吧/甜品店\",\"艺术画廊/艺术空间\",\"舞蹈俱乐部/娱乐场所\",\"游泳池\",\"健身房/运动中心\",\"面包店/糕点店（需调整或删除）\",\"美容&Spa\",\"咖啡厅（需调整或删除）\",\"观景点\",\"纪念碑/历史遗址\",\"花园/自然景观\"]\n",
    "print(len(cn_column))\n",
    "ratings.columns= cn_column\n",
    "ratings.to_csv('ratings_cn.csv',index=False,encoding='gbk')"
   ],
   "metadata": {
    "collapsed": false,
    "pycharm": {
     "name": "#%%\n"
    }
   }
  },
  {
   "cell_type": "code",
   "execution_count": null,
   "outputs": [],
   "source": [
    "# craw pic\n",
    "import urllib.request\n",
    "import os\n",
    "save_dir = 'pic/'\n",
    "for index, row in shanghai_df.iterrows():\n",
    "    chinese_name = row['景点名称']\n",
    "    if os.path.exists(save_dir+f'{row}-{chinese_name}.jpg'):\n",
    "        continue\n",
    "    search_url = f'https://www.google.com/search?q={chinese_name}&sca_upv=1&sxsrf=ACQVn08MS_K-XF5g6zaVj8_3i3jeSpNqDA:1708866753932&source=hp&biw=2048&bih=1026&ei=wTzbZbLTNrOb0-kP4Zu6yA8&iflsig=ANes7DEAAAAAZdtK0b9SPr7NNAoGw2MYZ_gBA-HN3NmK&ved=0ahUKEwjyt9beyMaEAxWzzTQHHeGNDvkQ4dUDCA8&oq=%E4%B8%9C%E6%96%B9%E6%98%8E%E7%8F%A0&gs_lp=EgNpbWciDOS4nOaWueaYjuePoDIFEAAYgAQyBRAAGIAEMgUQABiABDIFEAAYgAQyBRAAGIAEMgUQABiABDIFEAAYgAQyBRAAGIAEMgUQABiABDIFEAAYgARI0SdQ3xtY8SJwAXgAkAEAmAGfAaABnwGqAQMwLjG4AQzIAQD4AQL4AQGKAgtnd3Mtd2l6LWltZ5gCAqACpgGoAgrCAgcQIxjqAhgnmAMFkgcDMS4x&sclient=img&udm=2'\n",
    "    try:\n",
    "        response = urllib.request.urlopen(search_url)\n",
    "        page_content = response.read().decode('utf-8')\n",
    "        start_index = page_content.find('\"objURL\":\"') + 10\n",
    "        end_index = page_content.find('.jpg\"', start_index) + 4\n",
    "        image_url = page_content[start_index:end_index]\n",
    "        save_path = save_dir + f'{row}-{chinese_name}.jpg'\n",
    "        urllib.request.urlretrieve(image_url, save_path)\n",
    "        print(f'成功保存图片：{save_path}')\n",
    "    except Exception as e:\n",
    "        print(f'搜索图片出错：{e}')"
   ],
   "metadata": {
    "collapsed": false,
    "pycharm": {
     "name": "#%%\n"
    }
   }
  },
  {
   "cell_type": "code",
   "execution_count": 37,
   "outputs": [
    {
     "name": "stderr",
     "output_type": "stream",
     "text": [
      "Getting description...: 100%|██████████| 432/432 [12:24<00:00,  1.72s/it]\n"
     ]
    }
   ],
   "source": [
    "from openai import OpenAI\n",
    "import re\n",
    "from tqdm import tqdm\n",
    "import time\n",
    "client = OpenAI(\n",
    "    base_url = 'https://api.kwwai.top/v1',\n",
    "    api_key = 'sk-AYP9eKTcCHOqFrneC4E358Af7f12489dA601A5F012099fD1'\n",
    ")\n",
    "\n",
    "def try_get_description(name):\n",
    "    response = client.chat.completions.create(\n",
    "        model=\"gpt-3.5-turbo\",\n",
    "        messages=[\n",
    "        {\n",
    "            \"role\": \"user\",\n",
    "            \"content\": f\"请用markdown格式生成一段对于{name}景点的介绍，要求最后md展示的效果较为精美，重点加粗或者变色。要求直接输出介绍，并且字数越多越好\",\n",
    "        }\n",
    "    ],\n",
    "    )\n",
    "    return response.choices[0].message.content\n",
    "\n",
    "\n",
    "total_line=len(shanghai_df)\n",
    "for index, row in tqdm(shanghai_df.iterrows(),total=total_line,desc='Getting description...') :\n",
    "    chinese_name = row['景点名称']\n",
    "    if(len(row['景点描述'])>10):\n",
    "        continue\n",
    "    description = try_get_description(chinese_name)\n",
    "    shanghai_df.loc[index, '景点描述'] = description\n",
    "    shanghai_df.fillna('', inplace=True)\n",
    "    shanghai_df.to_csv('shanghai.csv', index=False,encoding='gbk', errors='ignore')"
   ],
   "metadata": {
    "collapsed": false,
    "pycharm": {
     "name": "#%%\n"
    }
   }
  },
  {
   "cell_type": "code",
   "execution_count": 56,
   "outputs": [
    {
     "data": {
      "text/plain": "       序号            景点名称               地区    评分    评级  \\\n514     1            东方明珠       上海·上海·浦东新区  0.76  5A景区   \n515     2       上海杜莎夫人蜡像馆        上海·上海·黄浦区  0.74  4A景区   \n516     3         上海迪士尼乐园       上海·上海·浦东新区  0.00    \\N   \n517     4         上海野生动物园       上海·上海·浦东新区  0.72  5A景区   \n518     5           上海科技馆       上海·上海·浦东新区  0.74  5A景区   \n...   ...             ...              ...   ...   ...   \n2672  428        崇明西沙湿地公园        上海·上海·崇明岛  0.70  4A景区   \n2673  429         上海多肉植物展        上海·上海·长宁区  0.00    \\N   \n2674  430        佘山国家森林公园  上海·上海·佘山国家旅游度假区  0.70  4A景区   \n2675  431          上海新场古镇       上海·上海·浦东新区  0.70  3A景区   \n2676  432  Team Club密室轰趴馆        上海·上海·松江区  0.00    \\N   \n\n                                   地址  \\\n514                     上海市浦东新区世纪大道1号   \n515           上海市黄浦区南京西路2-68号新世界商厦10楼   \n516              上海市浦东新区川沙新镇上海迪士尼度假区内   \n517                   上海市浦东新区南六公路178号   \n518      上海市浦东新区世纪大道2000号(近二号线上海科技馆站)   \n...                               ...   \n2672       上海市崇明县崇明岛西南端、明珠湖公园向西 500 米   \n2673  上海市长宁区世博源购物中心（世博大道1368号）L2层空中花园   \n2674                      上海市松江区佘山塔弄口   \n2675                上海市浦东新区新场镇海泉街128号   \n2676             上海市松江区弘翔路556弄辰弘佳苑78号   \n\n                                                     评语     价格     销量 省市自治区  \\\n514                                      感受云端漫步，品味老上海风情   88.0   5535   上海市   \n515                                      走自己的红毯，与世界明星相遇  130.0   4022   上海市   \n516                                 去哪儿付款码迪士尼园区内满120减50  570.0  55113   上海市   \n517                                     与野生动物近距离的“亲密接触”  118.0   7312   上海市   \n518                                   技术改变生活，只有想不到没有做不到   51.0   3657   上海市   \n...                                                 ...    ...    ...   ...   \n2672                                      具有成片滩涂林地的自然湿地    0.0      0   上海市   \n2673                  也是全国无数肉友翘首以盼的嘉年华！2015上海国际多肉展（2015    0.0      0   上海市   \n2674  佘山国家森林公园，位于上海市郊西南松江境内，距市中心30公里，距虹桥机场20公里，北靠318...    0.0      0   上海市   \n2675                                  古建筑形态多样，异常华美，独具特色    0.0      0   上海市   \n2676                                      别墅密室逃脱，探索谜般故事    0.0      0   上海市   \n\n                                                   景点描述       分类 单一分类  \n514   # 东方明珠\\n\\n东方明珠塔，坐落在上海浦东陆家嘴，是中国最著名的地标之一，也是上海最具代...       22   22  \n515   ### 上海杜莎夫人蜡像馆\\n\\n上海杜莎夫人蜡像馆位于中国上海市浦东新区世纪大道，是一家展...        6    6  \n516   ### 上海迪士尼乐园景点介绍\\n\\n上海迪士尼乐园是位于中国上海的迪士尼主题公园，于201...       18   18  \n517   ### 上海野生动物园\\n\\n位于上海市浦东新区的上海野生动物园是一处集观赏、教育和科研于一...        7    7  \n518   ### 上海科技馆\\n\\n上海科技馆位于浦东新区，是一座集科普教育、科技展览、科技体验为一体...        6    6  \n...                                                 ...      ...  ...  \n2672  **崇明西沙湿地公园**是位于上海崇明岛西部的一处独特景点，拥有丰富的自然生态资源和文化遗产...  13,4,22   13  \n2673  上海多肉植物展是一个迷人的园林景点，汇集了各种各样的多肉植物，营造出一种独特的植物世界。展览...        6    6  \n2674  **佘山国家森林公园**\\n\\n**佘山国家森林公园**，坐落在上海西南部的崇明区，是上海市...        4    4  \n2675  **上海新场古镇**\\n\\n**上海新场古镇**位于上海市浦东新区，是一座历史悠久的古镇，距...        9    9  \n2676  **欢迎来到Team Club密室轰趴馆**\\n\\nTeam Club密室轰趴馆是一家集密室...       11   11  \n\n[432 rows x 13 columns]",
      "text/html": "<div>\n<style scoped>\n    .dataframe tbody tr th:only-of-type {\n        vertical-align: middle;\n    }\n\n    .dataframe tbody tr th {\n        vertical-align: top;\n    }\n\n    .dataframe thead th {\n        text-align: right;\n    }\n</style>\n<table border=\"1\" class=\"dataframe\">\n  <thead>\n    <tr style=\"text-align: right;\">\n      <th></th>\n      <th>序号</th>\n      <th>景点名称</th>\n      <th>地区</th>\n      <th>评分</th>\n      <th>评级</th>\n      <th>地址</th>\n      <th>评语</th>\n      <th>价格</th>\n      <th>销量</th>\n      <th>省市自治区</th>\n      <th>景点描述</th>\n      <th>分类</th>\n      <th>单一分类</th>\n    </tr>\n  </thead>\n  <tbody>\n    <tr>\n      <th>514</th>\n      <td>1</td>\n      <td>东方明珠</td>\n      <td>上海·上海·浦东新区</td>\n      <td>0.76</td>\n      <td>5A景区</td>\n      <td>上海市浦东新区世纪大道1号</td>\n      <td>感受云端漫步，品味老上海风情</td>\n      <td>88.0</td>\n      <td>5535</td>\n      <td>上海市</td>\n      <td># 东方明珠\\n\\n东方明珠塔，坐落在上海浦东陆家嘴，是中国最著名的地标之一，也是上海最具代...</td>\n      <td>22</td>\n      <td>22</td>\n    </tr>\n    <tr>\n      <th>515</th>\n      <td>2</td>\n      <td>上海杜莎夫人蜡像馆</td>\n      <td>上海·上海·黄浦区</td>\n      <td>0.74</td>\n      <td>4A景区</td>\n      <td>上海市黄浦区南京西路2-68号新世界商厦10楼</td>\n      <td>走自己的红毯，与世界明星相遇</td>\n      <td>130.0</td>\n      <td>4022</td>\n      <td>上海市</td>\n      <td>### 上海杜莎夫人蜡像馆\\n\\n上海杜莎夫人蜡像馆位于中国上海市浦东新区世纪大道，是一家展...</td>\n      <td>6</td>\n      <td>6</td>\n    </tr>\n    <tr>\n      <th>516</th>\n      <td>3</td>\n      <td>上海迪士尼乐园</td>\n      <td>上海·上海·浦东新区</td>\n      <td>0.00</td>\n      <td>\\N</td>\n      <td>上海市浦东新区川沙新镇上海迪士尼度假区内</td>\n      <td>去哪儿付款码迪士尼园区内满120减50</td>\n      <td>570.0</td>\n      <td>55113</td>\n      <td>上海市</td>\n      <td>### 上海迪士尼乐园景点介绍\\n\\n上海迪士尼乐园是位于中国上海的迪士尼主题公园，于201...</td>\n      <td>18</td>\n      <td>18</td>\n    </tr>\n    <tr>\n      <th>517</th>\n      <td>4</td>\n      <td>上海野生动物园</td>\n      <td>上海·上海·浦东新区</td>\n      <td>0.72</td>\n      <td>5A景区</td>\n      <td>上海市浦东新区南六公路178号</td>\n      <td>与野生动物近距离的“亲密接触”</td>\n      <td>118.0</td>\n      <td>7312</td>\n      <td>上海市</td>\n      <td>### 上海野生动物园\\n\\n位于上海市浦东新区的上海野生动物园是一处集观赏、教育和科研于一...</td>\n      <td>7</td>\n      <td>7</td>\n    </tr>\n    <tr>\n      <th>518</th>\n      <td>5</td>\n      <td>上海科技馆</td>\n      <td>上海·上海·浦东新区</td>\n      <td>0.74</td>\n      <td>5A景区</td>\n      <td>上海市浦东新区世纪大道2000号(近二号线上海科技馆站)</td>\n      <td>技术改变生活，只有想不到没有做不到</td>\n      <td>51.0</td>\n      <td>3657</td>\n      <td>上海市</td>\n      <td>### 上海科技馆\\n\\n上海科技馆位于浦东新区，是一座集科普教育、科技展览、科技体验为一体...</td>\n      <td>6</td>\n      <td>6</td>\n    </tr>\n    <tr>\n      <th>...</th>\n      <td>...</td>\n      <td>...</td>\n      <td>...</td>\n      <td>...</td>\n      <td>...</td>\n      <td>...</td>\n      <td>...</td>\n      <td>...</td>\n      <td>...</td>\n      <td>...</td>\n      <td>...</td>\n      <td>...</td>\n      <td>...</td>\n    </tr>\n    <tr>\n      <th>2672</th>\n      <td>428</td>\n      <td>崇明西沙湿地公园</td>\n      <td>上海·上海·崇明岛</td>\n      <td>0.70</td>\n      <td>4A景区</td>\n      <td>上海市崇明县崇明岛西南端、明珠湖公园向西 500 米</td>\n      <td>具有成片滩涂林地的自然湿地</td>\n      <td>0.0</td>\n      <td>0</td>\n      <td>上海市</td>\n      <td>**崇明西沙湿地公园**是位于上海崇明岛西部的一处独特景点，拥有丰富的自然生态资源和文化遗产...</td>\n      <td>13,4,22</td>\n      <td>13</td>\n    </tr>\n    <tr>\n      <th>2673</th>\n      <td>429</td>\n      <td>上海多肉植物展</td>\n      <td>上海·上海·长宁区</td>\n      <td>0.00</td>\n      <td>\\N</td>\n      <td>上海市长宁区世博源购物中心（世博大道1368号）L2层空中花园</td>\n      <td>也是全国无数肉友翘首以盼的嘉年华！2015上海国际多肉展（2015</td>\n      <td>0.0</td>\n      <td>0</td>\n      <td>上海市</td>\n      <td>上海多肉植物展是一个迷人的园林景点，汇集了各种各样的多肉植物，营造出一种独特的植物世界。展览...</td>\n      <td>6</td>\n      <td>6</td>\n    </tr>\n    <tr>\n      <th>2674</th>\n      <td>430</td>\n      <td>佘山国家森林公园</td>\n      <td>上海·上海·佘山国家旅游度假区</td>\n      <td>0.70</td>\n      <td>4A景区</td>\n      <td>上海市松江区佘山塔弄口</td>\n      <td>佘山国家森林公园，位于上海市郊西南松江境内，距市中心30公里，距虹桥机场20公里，北靠318...</td>\n      <td>0.0</td>\n      <td>0</td>\n      <td>上海市</td>\n      <td>**佘山国家森林公园**\\n\\n**佘山国家森林公园**，坐落在上海西南部的崇明区，是上海市...</td>\n      <td>4</td>\n      <td>4</td>\n    </tr>\n    <tr>\n      <th>2675</th>\n      <td>431</td>\n      <td>上海新场古镇</td>\n      <td>上海·上海·浦东新区</td>\n      <td>0.70</td>\n      <td>3A景区</td>\n      <td>上海市浦东新区新场镇海泉街128号</td>\n      <td>古建筑形态多样，异常华美，独具特色</td>\n      <td>0.0</td>\n      <td>0</td>\n      <td>上海市</td>\n      <td>**上海新场古镇**\\n\\n**上海新场古镇**位于上海市浦东新区，是一座历史悠久的古镇，距...</td>\n      <td>9</td>\n      <td>9</td>\n    </tr>\n    <tr>\n      <th>2676</th>\n      <td>432</td>\n      <td>Team Club密室轰趴馆</td>\n      <td>上海·上海·松江区</td>\n      <td>0.00</td>\n      <td>\\N</td>\n      <td>上海市松江区弘翔路556弄辰弘佳苑78号</td>\n      <td>别墅密室逃脱，探索谜般故事</td>\n      <td>0.0</td>\n      <td>0</td>\n      <td>上海市</td>\n      <td>**欢迎来到Team Club密室轰趴馆**\\n\\nTeam Club密室轰趴馆是一家集密室...</td>\n      <td>11</td>\n      <td>11</td>\n    </tr>\n  </tbody>\n</table>\n<p>432 rows × 13 columns</p>\n</div>"
     },
     "execution_count": 56,
     "metadata": {},
     "output_type": "execute_result"
    }
   ],
   "source": [
    "def extract_numbers(string):\n",
    "    numbers = re.findall(r'\\d+', string)\n",
    "    if len(numbers) == 1:\n",
    "        return numbers[0]\n",
    "    else:\n",
    "        return ','.join(numbers)\n",
    "def extract_single_numbers(string):\n",
    "    numbers = re.findall(r'\\d+', string)\n",
    "    return numbers[0]\n",
    "\n",
    "shanghai_df['分类'] = shanghai_df['分类'].apply(extract_numbers)\n",
    "shanghai_df['单一分类'] = shanghai_df['分类'].apply(extract_single_numbers)\n",
    "shanghai_df.to_csv('shanghai.csv', index=False,encoding='gbk', errors='ignore')\n",
    "shanghai_df"
   ],
   "metadata": {
    "collapsed": false,
    "pycharm": {
     "name": "#%%\n"
    }
   }
  },
  {
   "cell_type": "code",
   "execution_count": 41,
   "outputs": [
    {
     "name": "stderr",
     "output_type": "stream",
     "text": [
      "Getting description...: 100%|██████████| 432/432 [09:00<00:00,  1.25s/it]\n"
     ]
    }
   ],
   "source": [
    "import re\n",
    "def try_get_classification(name):\n",
    "    response = client.chat.completions.create(\n",
    "        model=\"gpt-3.5-turbo\",\n",
    "        messages=[\n",
    "        {\n",
    "            \"role\": \"user\",\n",
    "            \"content\": f'''请将{name}这个景点进行分类，一共有24类，分别如下，直接给出这个景点的分类结果，以数字下标输出：\n",
    "\"宗教场所\",\"度假区\",\"海滩\",\"公园/森林公园\",\"剧院/表演场所\",\"博物馆/展览馆\",\"购物中心/商场\",\"动物园/水族馆\",\"餐厅/美食\",\"酒吧/夜生活\",\"本地服务/体验活动\",\"汉堡/披萨店（需调整或删除）\",\"酒店/住宿\",\"果汁吧/甜品店\",\"艺术画廊/艺术空间\",\"舞蹈俱乐部/娱乐场所\",\"游泳池\",\"健身房/运动中心\",\"面包店/糕点店（需调整或删除）\",\"美容&Spa\",\"咖啡厅（需调整或删除）\",\"观景点\",\"纪念碑/历史遗址\",\"花园/自然景观\"\n",
    "\n",
    "比如：对于 太阳岛国际旅游度假区 这个景点， 应该输出: 2 原因：这个景点属于度假区，而度假区是第2个分类\n",
    "''',\n",
    "        }\n",
    "    ],\n",
    "    )\n",
    "    classification = response.choices[0].message.content\n",
    "    if not re.search(r'\\b([1-9]|1[0-9]|2[0-5])\\b', classification):\n",
    "        classification = try_get_classification(name)  # 递归调用直到成功获得符合要求的分类\n",
    "    return classification\n",
    "total_line=len(shanghai_df)\n",
    "for index, row in tqdm(shanghai_df.iterrows(),total=total_line,desc='Getting description...') :\n",
    "    chinese_name = row['景点名称']\n",
    "    # if(int(row['分类'])>0):\n",
    "    #     continue\n",
    "    classification = try_get_classification(chinese_name)\n",
    "    shanghai_df.loc[index, '分类'] = classification\n",
    "    shanghai_df.fillna('', inplace=True)\n",
    "    shanghai_df.to_csv('shanghai_classify.csv', index=False,encoding='gbk', errors='ignore')"
   ],
   "metadata": {
    "collapsed": false,
    "pycharm": {
     "name": "#%%\n"
    }
   }
  },
  {
   "cell_type": "code",
   "execution_count": 60,
   "outputs": [
    {
     "data": {
      "text/plain": "           User  宗教场所   度假区    海滩  公园/森林公园  剧院/表演场所  博物馆/展览馆  购物中心/商场  \\\n0        User 1  0.00  0.00  3.63     3.65     5.00     2.92     5.00   \n1        User 2  0.00  0.00  3.63     3.65     5.00     2.92     5.00   \n2        User 3  0.00  0.00  3.63     3.63     5.00     2.92     5.00   \n3        User 4  0.00  0.50  3.63     3.63     5.00     2.92     5.00   \n4        User 5  0.00  0.00  3.63     3.63     5.00     2.92     5.00   \n...         ...   ...   ...   ...      ...      ...      ...      ...   \n5451  User 5452  0.91  5.00  4.00     2.79     2.77     2.57     2.43   \n5452  User 5453  0.93  5.00  4.02     2.79     2.78     2.57     1.77   \n5453  User 5454  0.94  5.00  4.03     2.80     2.78     2.57     1.75   \n5454  User 5455  0.95  4.05  4.05     2.81     2.79     2.44     1.76   \n5455  User 5456  0.95  4.07  5.00     2.82     2.80     2.57     2.42   \n\n      动物园/水族馆  餐厅/美食  ...  艺术画廊/艺术空间 舞蹈俱乐部/娱乐场所   游泳池  健身房/运动中心  \\\n0        2.35   2.33  ...       1.74       0.59  0.50      0.00   \n1        2.64   2.33  ...       1.74       0.59  0.50      0.00   \n2        2.64   2.33  ...       1.74       0.59  0.50      0.00   \n3        2.35   2.33  ...       1.74       0.59  0.50      0.00   \n4        2.64   2.33  ...       1.74       0.59  0.50      0.00   \n...       ...    ...  ...        ...        ...   ...       ...   \n5451     1.09   1.77  ...       5.00       0.66  0.65      0.66   \n5452     1.07   1.76  ...       0.89       0.65  0.64      0.65   \n5453     1.05   1.75  ...       0.87       0.65  0.63      0.64   \n5454     1.03   1.74  ...       5.00       0.64  0.63      0.64   \n5455     1.02   1.74  ...       0.85       0.64  0.62      0.63   \n\n      面包店/糕点店（需调整或删除）  美容&Spa  咖啡厅（需调整或删除）  观景点  纪念碑/历史遗址  花园/自然景观  \n0                0.50    0.00         0.00  0.0       0.0     0.00  \n1                0.50    0.00         0.00  0.0       0.0     0.00  \n2                0.50    0.00         0.00  0.0       0.0     0.00  \n3                0.50    0.00         0.00  0.0       0.0     0.00  \n4                0.50    0.00         0.00  0.0       0.0     0.00  \n...               ...     ...          ...  ...       ...      ...  \n5451             0.69    5.00         1.05  5.0       5.0     1.56  \n5452             1.59    1.62         1.06  5.0       5.0     1.09  \n5453             0.74    5.00         1.07  5.0       5.0     1.11  \n5454             0.75    5.00         1.08  5.0       5.0     1.12  \n5455             0.78    5.00         1.08  5.0       5.0     1.17  \n\n[5456 rows x 25 columns]",
      "text/html": "<div>\n<style scoped>\n    .dataframe tbody tr th:only-of-type {\n        vertical-align: middle;\n    }\n\n    .dataframe tbody tr th {\n        vertical-align: top;\n    }\n\n    .dataframe thead th {\n        text-align: right;\n    }\n</style>\n<table border=\"1\" class=\"dataframe\">\n  <thead>\n    <tr style=\"text-align: right;\">\n      <th></th>\n      <th>User</th>\n      <th>宗教场所</th>\n      <th>度假区</th>\n      <th>海滩</th>\n      <th>公园/森林公园</th>\n      <th>剧院/表演场所</th>\n      <th>博物馆/展览馆</th>\n      <th>购物中心/商场</th>\n      <th>动物园/水族馆</th>\n      <th>餐厅/美食</th>\n      <th>...</th>\n      <th>艺术画廊/艺术空间</th>\n      <th>舞蹈俱乐部/娱乐场所</th>\n      <th>游泳池</th>\n      <th>健身房/运动中心</th>\n      <th>面包店/糕点店（需调整或删除）</th>\n      <th>美容&amp;Spa</th>\n      <th>咖啡厅（需调整或删除）</th>\n      <th>观景点</th>\n      <th>纪念碑/历史遗址</th>\n      <th>花园/自然景观</th>\n    </tr>\n  </thead>\n  <tbody>\n    <tr>\n      <th>0</th>\n      <td>User 1</td>\n      <td>0.00</td>\n      <td>0.00</td>\n      <td>3.63</td>\n      <td>3.65</td>\n      <td>5.00</td>\n      <td>2.92</td>\n      <td>5.00</td>\n      <td>2.35</td>\n      <td>2.33</td>\n      <td>...</td>\n      <td>1.74</td>\n      <td>0.59</td>\n      <td>0.50</td>\n      <td>0.00</td>\n      <td>0.50</td>\n      <td>0.00</td>\n      <td>0.00</td>\n      <td>0.0</td>\n      <td>0.0</td>\n      <td>0.00</td>\n    </tr>\n    <tr>\n      <th>1</th>\n      <td>User 2</td>\n      <td>0.00</td>\n      <td>0.00</td>\n      <td>3.63</td>\n      <td>3.65</td>\n      <td>5.00</td>\n      <td>2.92</td>\n      <td>5.00</td>\n      <td>2.64</td>\n      <td>2.33</td>\n      <td>...</td>\n      <td>1.74</td>\n      <td>0.59</td>\n      <td>0.50</td>\n      <td>0.00</td>\n      <td>0.50</td>\n      <td>0.00</td>\n      <td>0.00</td>\n      <td>0.0</td>\n      <td>0.0</td>\n      <td>0.00</td>\n    </tr>\n    <tr>\n      <th>2</th>\n      <td>User 3</td>\n      <td>0.00</td>\n      <td>0.00</td>\n      <td>3.63</td>\n      <td>3.63</td>\n      <td>5.00</td>\n      <td>2.92</td>\n      <td>5.00</td>\n      <td>2.64</td>\n      <td>2.33</td>\n      <td>...</td>\n      <td>1.74</td>\n      <td>0.59</td>\n      <td>0.50</td>\n      <td>0.00</td>\n      <td>0.50</td>\n      <td>0.00</td>\n      <td>0.00</td>\n      <td>0.0</td>\n      <td>0.0</td>\n      <td>0.00</td>\n    </tr>\n    <tr>\n      <th>3</th>\n      <td>User 4</td>\n      <td>0.00</td>\n      <td>0.50</td>\n      <td>3.63</td>\n      <td>3.63</td>\n      <td>5.00</td>\n      <td>2.92</td>\n      <td>5.00</td>\n      <td>2.35</td>\n      <td>2.33</td>\n      <td>...</td>\n      <td>1.74</td>\n      <td>0.59</td>\n      <td>0.50</td>\n      <td>0.00</td>\n      <td>0.50</td>\n      <td>0.00</td>\n      <td>0.00</td>\n      <td>0.0</td>\n      <td>0.0</td>\n      <td>0.00</td>\n    </tr>\n    <tr>\n      <th>4</th>\n      <td>User 5</td>\n      <td>0.00</td>\n      <td>0.00</td>\n      <td>3.63</td>\n      <td>3.63</td>\n      <td>5.00</td>\n      <td>2.92</td>\n      <td>5.00</td>\n      <td>2.64</td>\n      <td>2.33</td>\n      <td>...</td>\n      <td>1.74</td>\n      <td>0.59</td>\n      <td>0.50</td>\n      <td>0.00</td>\n      <td>0.50</td>\n      <td>0.00</td>\n      <td>0.00</td>\n      <td>0.0</td>\n      <td>0.0</td>\n      <td>0.00</td>\n    </tr>\n    <tr>\n      <th>...</th>\n      <td>...</td>\n      <td>...</td>\n      <td>...</td>\n      <td>...</td>\n      <td>...</td>\n      <td>...</td>\n      <td>...</td>\n      <td>...</td>\n      <td>...</td>\n      <td>...</td>\n      <td>...</td>\n      <td>...</td>\n      <td>...</td>\n      <td>...</td>\n      <td>...</td>\n      <td>...</td>\n      <td>...</td>\n      <td>...</td>\n      <td>...</td>\n      <td>...</td>\n      <td>...</td>\n    </tr>\n    <tr>\n      <th>5451</th>\n      <td>User 5452</td>\n      <td>0.91</td>\n      <td>5.00</td>\n      <td>4.00</td>\n      <td>2.79</td>\n      <td>2.77</td>\n      <td>2.57</td>\n      <td>2.43</td>\n      <td>1.09</td>\n      <td>1.77</td>\n      <td>...</td>\n      <td>5.00</td>\n      <td>0.66</td>\n      <td>0.65</td>\n      <td>0.66</td>\n      <td>0.69</td>\n      <td>5.00</td>\n      <td>1.05</td>\n      <td>5.0</td>\n      <td>5.0</td>\n      <td>1.56</td>\n    </tr>\n    <tr>\n      <th>5452</th>\n      <td>User 5453</td>\n      <td>0.93</td>\n      <td>5.00</td>\n      <td>4.02</td>\n      <td>2.79</td>\n      <td>2.78</td>\n      <td>2.57</td>\n      <td>1.77</td>\n      <td>1.07</td>\n      <td>1.76</td>\n      <td>...</td>\n      <td>0.89</td>\n      <td>0.65</td>\n      <td>0.64</td>\n      <td>0.65</td>\n      <td>1.59</td>\n      <td>1.62</td>\n      <td>1.06</td>\n      <td>5.0</td>\n      <td>5.0</td>\n      <td>1.09</td>\n    </tr>\n    <tr>\n      <th>5453</th>\n      <td>User 5454</td>\n      <td>0.94</td>\n      <td>5.00</td>\n      <td>4.03</td>\n      <td>2.80</td>\n      <td>2.78</td>\n      <td>2.57</td>\n      <td>1.75</td>\n      <td>1.05</td>\n      <td>1.75</td>\n      <td>...</td>\n      <td>0.87</td>\n      <td>0.65</td>\n      <td>0.63</td>\n      <td>0.64</td>\n      <td>0.74</td>\n      <td>5.00</td>\n      <td>1.07</td>\n      <td>5.0</td>\n      <td>5.0</td>\n      <td>1.11</td>\n    </tr>\n    <tr>\n      <th>5454</th>\n      <td>User 5455</td>\n      <td>0.95</td>\n      <td>4.05</td>\n      <td>4.05</td>\n      <td>2.81</td>\n      <td>2.79</td>\n      <td>2.44</td>\n      <td>1.76</td>\n      <td>1.03</td>\n      <td>1.74</td>\n      <td>...</td>\n      <td>5.00</td>\n      <td>0.64</td>\n      <td>0.63</td>\n      <td>0.64</td>\n      <td>0.75</td>\n      <td>5.00</td>\n      <td>1.08</td>\n      <td>5.0</td>\n      <td>5.0</td>\n      <td>1.12</td>\n    </tr>\n    <tr>\n      <th>5455</th>\n      <td>User 5456</td>\n      <td>0.95</td>\n      <td>4.07</td>\n      <td>5.00</td>\n      <td>2.82</td>\n      <td>2.80</td>\n      <td>2.57</td>\n      <td>2.42</td>\n      <td>1.02</td>\n      <td>1.74</td>\n      <td>...</td>\n      <td>0.85</td>\n      <td>0.64</td>\n      <td>0.62</td>\n      <td>0.63</td>\n      <td>0.78</td>\n      <td>5.00</td>\n      <td>1.08</td>\n      <td>5.0</td>\n      <td>5.0</td>\n      <td>1.17</td>\n    </tr>\n  </tbody>\n</table>\n<p>5456 rows × 25 columns</p>\n</div>"
     },
     "execution_count": 60,
     "metadata": {},
     "output_type": "execute_result"
    }
   ],
   "source": [
    "ratings"
   ],
   "metadata": {
    "collapsed": false,
    "pycharm": {
     "name": "#%%\n"
    }
   }
  },
  {
   "cell_type": "code",
   "execution_count": 65,
   "outputs": [
    {
     "name": "stderr",
     "output_type": "stream",
     "text": [
      "rating...: 100%|██████████| 5456/5456 [00:42<00:00, 126.90it/s]\n"
     ]
    },
    {
     "data": {
      "text/plain": "     用户ID  景点ID  评分\n0  User 1   403   2\n1  User 1   350   1\n2  User 1   152   1\n3  User 1   221   1\n4  User 1   421   1",
      "text/html": "<div>\n<style scoped>\n    .dataframe tbody tr th:only-of-type {\n        vertical-align: middle;\n    }\n\n    .dataframe tbody tr th {\n        vertical-align: top;\n    }\n\n    .dataframe thead th {\n        text-align: right;\n    }\n</style>\n<table border=\"1\" class=\"dataframe\">\n  <thead>\n    <tr style=\"text-align: right;\">\n      <th></th>\n      <th>用户ID</th>\n      <th>景点ID</th>\n      <th>评分</th>\n    </tr>\n  </thead>\n  <tbody>\n    <tr>\n      <th>0</th>\n      <td>User 1</td>\n      <td>403</td>\n      <td>2</td>\n    </tr>\n    <tr>\n      <th>1</th>\n      <td>User 1</td>\n      <td>350</td>\n      <td>1</td>\n    </tr>\n    <tr>\n      <th>2</th>\n      <td>User 1</td>\n      <td>152</td>\n      <td>1</td>\n    </tr>\n    <tr>\n      <th>3</th>\n      <td>User 1</td>\n      <td>221</td>\n      <td>1</td>\n    </tr>\n    <tr>\n      <th>4</th>\n      <td>User 1</td>\n      <td>421</td>\n      <td>1</td>\n    </tr>\n  </tbody>\n</table>\n</div>"
     },
     "execution_count": 65,
     "metadata": {},
     "output_type": "execute_result"
    }
   ],
   "source": [
    "import numpy as np\n",
    "final_ratings_data = []\n",
    "\n",
    "for idx, user_row in tqdm(ratings.iterrows(),total=len(ratings),desc=\"rating...\") :\n",
    "    user_id = user_row['User']\n",
    "    # if idx >10:\n",
    "    #     break\n",
    "    for category_index, category_name in enumerate(ratings.columns[1:], start=1):  # Skip 'User' column, index starts at 1\n",
    "        try:\n",
    "            target_mean_score = float(user_row[category_name])\n",
    "        except (ValueError, TypeError):\n",
    "            target_mean_score = float(0)\n",
    "        spots_in_category = shanghai_df[shanghai_df['单一分类'] == str(category_index)]['序号'].tolist()\n",
    "        # Determine the number of spots to rate (20%-50%)\n",
    "        num_spots_to_rate = np.random.randint(low=int(len(spots_in_category) * 0.2), high=int(len(spots_in_category) * 0.5) + 1)\n",
    "        selected_spots = np.random.choice(spots_in_category, size=num_spots_to_rate, replace=False)\n",
    "\n",
    "        # Generate ratings with consideration to the target average score\n",
    "        # Simplified approach: Adjust the range of possible ratings based on the target average score\n",
    "        if target_mean_score <= 2:\n",
    "            spot_ratings = [np.random.randint(1, 4) for _ in range(num_spots_to_rate)]\n",
    "        elif target_mean_score <= 3:\n",
    "            spot_ratings = [np.random.randint(2, 5) for _ in range(num_spots_to_rate)]\n",
    "        else:\n",
    "            spot_ratings = [np.random.randint(3, 6) for _ in range(num_spots_to_rate)]\n",
    "\n",
    "        # Add the ratings to the final data list\n",
    "        for spot_id, spot_rating in zip(selected_spots, spot_ratings):\n",
    "            final_ratings_data.append([user_id, spot_id, spot_rating])\n",
    "\n",
    "\n",
    "final_ratings_df = pd.DataFrame(final_ratings_data, columns=['用户ID', '景点ID', '评分'])\n",
    "final_ratings_df.to_csv('user_rating.csv', index=False,encoding='gbk', errors='ignore')\n",
    "final_ratings_df.head()"
   ],
   "metadata": {
    "collapsed": false,
    "pycharm": {
     "name": "#%%\n"
    }
   }
  },
  {
   "cell_type": "code",
   "execution_count": null,
   "outputs": [],
   "source": [],
   "metadata": {
    "collapsed": false,
    "pycharm": {
     "name": "#%%\n"
    }
   }
  }
 ],
 "metadata": {
  "kernelspec": {
   "display_name": "Python 3",
   "language": "python",
   "name": "python3"
  },
  "language_info": {
   "codemirror_mode": {
    "name": "ipython",
    "version": 2
   },
   "file_extension": ".py",
   "mimetype": "text/x-python",
   "name": "python",
   "nbconvert_exporter": "python",
   "pygments_lexer": "ipython2",
   "version": "2.7.6"
  }
 },
 "nbformat": 4,
 "nbformat_minor": 0
}