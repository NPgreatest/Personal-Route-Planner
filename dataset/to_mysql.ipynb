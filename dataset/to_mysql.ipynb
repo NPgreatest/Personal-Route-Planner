{
 "cells": [
  {
   "cell_type": "code",
   "execution_count": 26,
   "metadata": {
    "collapsed": true,
    "pycharm": {
     "name": "#%%\n"
    }
   },
   "outputs": [],
   "source": [
    "import mysql.connector\n",
    "import tqdm\n",
    "def connect_to_database():\n",
    "    \"\"\"连接到数据库并返回连接对象\"\"\"\n",
    "    connection = mysql.connector.connect(\n",
    "        host='127.0.0.1',\n",
    "        user='root',\n",
    "        password='root',\n",
    "        database='route_planner'\n",
    "    )\n",
    "    return connection\n",
    "connection = connect_to_database()\n",
    "cursor = connection.cursor()"
   ]
  },
  {
   "cell_type": "code",
   "execution_count": null,
   "outputs": [],
   "source": [
    "import csv\n",
    "insert_query = \"\"\"\n",
    "INSERT INTO sites (sid, sname, description, pic, website) VALUES (%s, %s, %s, %s, %s)\n",
    "\"\"\"\n",
    "with open('shanghai.csv', mode='r', encoding='gbk') as file:\n",
    "    csv_reader = csv.reader(file)\n",
    "    next(csv_reader)  # Skip header\n",
    "    for row in csv_reader:\n",
    "        sid = int(row[0])  # 假设CSV文件的第一列是sid\n",
    "        sname = row[1]  # 假设CSV文件的第二列是sname\n",
    "        description = row[10]  # 假设CSV文件的第三列是description\n",
    "        # 生成图片URL，假设图片按sid命名\n",
    "        pic = f\"http://localhost:8080/images/{sid}\"\n",
    "        website = None  # website为空\n",
    "        # 插入数据\n",
    "        cursor.execute(insert_query, (sid, sname, description, pic, website))\n",
    "\n",
    "connection.commit()\n",
    "cursor.close()\n",
    "connection.close()"
   ],
   "metadata": {
    "collapsed": false,
    "pycharm": {
     "name": "#%%\n"
    }
   }
  },
  {
   "cell_type": "code",
   "execution_count": null,
   "outputs": [],
   "source": [
    "insert_query = \"\"\"\n",
    "INSERT INTO sites_tags (sid,tagid) VALUES (%s, %s)\n",
    "\"\"\"\n",
    "\n",
    "sites_tags_data = []\n",
    "with open('shanghai.csv', mode='r', encoding='gbk') as file:\n",
    "    csv_reader = csv.reader(file)\n",
    "    next(csv_reader)  # Skip the header row\n",
    "    for row in csv_reader:\n",
    "        sid = int(row[0])  # Assuming the first column of the CSV is 'sid'\n",
    "        tagids_str = row[11]  # Assuming the eleventh column of the CSV is 'tagid'\n",
    "        tagids = tagids_str.split(',')  # Split the string by comma\n",
    "        for tagid in tagids:\n",
    "            if tagid.strip().isdigit():  # Ensure that tagid is a digit after stripping whitespace\n",
    "                sites_tags_data.append((sid, int(tagid.strip())))\n",
    "\n",
    "for item in sites_tags_data:\n",
    "    cursor.execute(insert_query, (str(item[0]) ,str(item[1])))\n",
    "\n",
    "connection.commit()\n",
    "cursor.close()\n",
    "connection.close()"
   ],
   "metadata": {
    "collapsed": false,
    "pycharm": {
     "name": "#%%\n"
    }
   }
  },
  {
   "cell_type": "code",
   "execution_count": null,
   "outputs": [],
   "source": [
    "tag_names= [\"User\",\"宗教场所\",\"度假区\",\"海滩\",\"公园/森林公园\",\"剧院/表演场所\",\"博物馆/展览馆\",\"购物中心/商场\",\"动物园/水族馆\",\"餐厅/美食\",\"酒吧/夜生活\",\"本地服务/体验活动\",\"汉堡/披萨店（需调整或删除）\",\"酒店/住宿\",\"果汁吧/甜品店\",\"艺术画廊/艺术空间\",\"舞蹈俱乐部/娱乐场所\",\"游泳池\",\"健身房/运动中心\",\"面包店/糕点店（需调整或删除）\",\"美容&Spa\",\"咖啡厅（需调整或删除）\",\"观景点\",\"纪念碑/历史遗址\",\"花园/自然景观\"]\n",
    "insert_query = \"\"\"\n",
    "INSERT INTO tags (tagid,name) VALUES (%s, %s)\n",
    "\"\"\"\n",
    "for idx,item in  enumerate(tag_names):\n",
    "    if idx==0:\n",
    "        continue\n",
    "    cursor.execute(insert_query,(str(idx),item))\n",
    "connection.commit()\n",
    "cursor.close()\n",
    "connection.close()"
   ],
   "metadata": {
    "collapsed": false,
    "pycharm": {
     "name": "#%%\n"
    }
   }
  },
  {
   "cell_type": "code",
   "execution_count": 25,
   "outputs": [],
   "source": [
    "insert_query = \"\"\"\n",
    "INSERT INTO rating (name,sid,rating) VALUES (%s, %s,%s)\n",
    "\"\"\"\n",
    "\n",
    "with open('user_rating.csv', mode='r', encoding='gbk') as file:\n",
    "    csv_reader = csv.reader(file)\n",
    "    next(csv_reader)  # Skip the header row\n",
    "\n",
    "    for row in csv_reader:\n",
    "        uName = row[0]\n",
    "        sid=int(row[1])\n",
    "        value = int(row[2])\n",
    "        cursor.execute(insert_query, (uName,sid,value))\n",
    "\n",
    "connection.commit()\n",
    "cursor.close()\n",
    "connection.close()"
   ],
   "metadata": {
    "collapsed": false,
    "pycharm": {
     "name": "#%%\n"
    }
   }
  },
  {
   "cell_type": "code",
   "execution_count": null,
   "outputs": [],
   "source": [],
   "metadata": {
    "collapsed": false,
    "pycharm": {
     "name": "#%%\n"
    }
   }
  }
 ],
 "metadata": {
  "kernelspec": {
   "display_name": "Python 3",
   "language": "python",
   "name": "python3"
  },
  "language_info": {
   "codemirror_mode": {
    "name": "ipython",
    "version": 2
   },
   "file_extension": ".py",
   "mimetype": "text/x-python",
   "name": "python",
   "nbconvert_exporter": "python",
   "pygments_lexer": "ipython2",
   "version": "2.7.6"
  }
 },
 "nbformat": 4,
 "nbformat_minor": 0
}